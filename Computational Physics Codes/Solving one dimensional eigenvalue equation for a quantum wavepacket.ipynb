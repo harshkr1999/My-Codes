{
 "cells": [
  {
   "cell_type": "markdown",
   "metadata": {},
   "source": [
    "# Solving the 1-D Eigenvalue Equation  \n",
    "$$ -\\frac{\\hbar^2}{2m} \\frac{d^2\\psi}{dx^2} + V(x)\\psi = E \\psi $$  \n",
    "## Reduction to dimensionless form  \n",
    " Assume natural length scale $a_0$. Let $x=a_0 y$. Substituting gives  \n",
    " $$ -\\frac{\\hbar^2}{2ma_0^2} \\frac{d^2\\psi}{dy^2} + V(x)\\psi = E \\psi $$  \n",
    " Use $E_0 = \\hbar^2/2ma_0^2$ as a natural energy scale. Dividing throughout by $E_0$ gives  \n",
    "  $$ -\\frac{d^2\\psi}{dy^2} + U(y)\\psi = \\epsilon \\psi $$  \n",
    "  where $U(y)=V(a_0 y)/E_0$ and $\\epsilon=E/E_0$. The wavefunction satisfies the constraint  \n",
    "  $$ \\int dx |\\psi|^2 = 1 $$.  \n",
    "  We define a dimensionless wavefunction $\\phi = \\sqrt{a_0}\\times \\psi$. This \n",
    "  satisfies  \n",
    "  $$ \\int dy |\\phi|^2 = 1 $$.\n",
    "  \n",
    "## Discretization  \n",
    "We assume that $x \\in [-L,L]$. Then, $y \\in [-\\tilde{L},\\tilde{L}]$ where $\\tilde{L}=L/l_0$.  \n",
    "Divide the interval $[-\\tilde{L},\\tilde{L}]$ into $N$ segments with lattice points labelled by an \n",
    "integer $i$ such that $y_i = i\\times \\Delta$ where $\\Delta = 2\\tilde{L}/N$. Using the symmetric difference for the \n",
    "second derivative in the eigenvalue equation gives (at $y_i$)  \n",
    "$$-\\frac{1}{\\Delta^2}\\left(\\phi_{i+1}-2\\phi_i+\\phi_{i-1}\\right) + U_i \\phi_i = \\epsilon \\phi_i $$  \n",
    "This equation can be cast in the matrix form  \n",
    "$$H \\phi = \\epsilon \\phi $$\n",
    "where the matrix $H$ has elements  \n",
    "$$H_{ij} = -\\frac{1}{\\Delta^2}\\left(\\delta_{i+1,j}-2\\delta_{i,j}+\\delta_{i-1,j}\\right) + U_i \\delta_{i,j} $$  \n",
    "At this point, the eigenvalues and eigenvectors of $H$ can be determined using numpy.  \n",
    "The normalization constraint on the eigenvectors $\\phi$ is  \n",
    " $$ \\int dy |\\phi|^2 = 1 $$  \n",
    " which, in discrete form, reduces to\n",
    " $$ \\Delta \\sum_i |\\phi_i|^2 = 1 $$"
   ]
  },
  {
   "cell_type": "markdown",
   "metadata": {},
   "source": [
    "## Example: Harmonic Oscillator\n",
    "\n",
    "$$V(x) =  \\begin{cases} \n",
    "      -V_{o}& |x|\\leq a \\\\\n",
    "      0 & otherwise\\\\\n",
    "   \\end{cases}\n",
    "$$ \n",
    "The natural energy scale is $E_0 = \\frac{\\hbar^2}{2 m a_0^2} $. The associated length scale is $a_0 = 2$${A^0}$  . The dimensionless eigenvalue equation is  \n",
    "$$-\\frac{d^2\\phi}{dy^2} + U(y)\\phi = \\epsilon \\phi $$ "
   ]
  },
  {
   "cell_type": "code",
   "execution_count": 1,
   "metadata": {},
   "outputs": [],
   "source": [
    "import numpy as np\n",
    "from numpy import linalg as lin\n",
    "import matplotlib.pyplot as plt\n",
    "plt.style.use(\"seaborn-whitegrid\")\n",
    "%matplotlib inline"
   ]
  },
  {
   "cell_type": "code",
   "execution_count": 2,
   "metadata": {},
   "outputs": [],
   "source": [
    "delta = 0.01\n",
    "L = 3. \n",
    "N = 300 # No. of lattice points is 2N+1\n",
    "x = np.arange(-3.,3.+delta,delta)\n",
    "a = 2*10**-10 # in m\n",
    "hbar=(6.6*10**(-34))/(2*np.pi) #in Joules\n",
    "m = 9.1*10**-31 # in kg\n",
    "V_0 = 40 #in eV\n",
    "ev = 1.6*10**(-19)\n",
    "E_0 = e = hbar*hbar/(2*m*a*a*ev) #in eV\n",
    "U = V_0/E_0 # dimensionless potential\n"
   ]
  },
  {
   "cell_type": "code",
   "execution_count": 15,
   "metadata": {},
   "outputs": [],
   "source": [
    "def kronecker(i,j):\n",
    "    return 1 if i==j else 0\n",
    "def V(z): #potential well defined\n",
    "    return -40/E_0 if abs(z) <=1 else 0.0\n",
    "\n",
    "def h(i,j):\n",
    "    return (-kronecker(i+1,j) + 2*kronecker(i,j) - kronecker(i-1,j))/delta**2 + V(delta*i) * kronecker(i,j)"
   ]
  },
  {
   "cell_type": "code",
   "execution_count": 16,
   "metadata": {},
   "outputs": [],
   "source": [
    "H = np.array( [[h(i,j) for i in range(-N,N+1)] for j in range(-N,N+1)] ) # The Hamiltonian matrix\n",
    "H_eigenvalues, H_eigenvectors = lin.eig(H)\n",
    "idx = H_eigenvalues.argsort() # Sorted indices (increasing order of eigenvalues)\n",
    "H_eigenvalues = H_eigenvalues[idx] # Sorted eigenvalues\n",
    "H_eigenvectors = H_eigenvectors[:,idx] # Sorted eigenvectors"
   ]
  },
  {
   "cell_type": "code",
   "execution_count": 17,
   "metadata": {},
   "outputs": [],
   "source": [
    "potential = np.array([V(delta*i)*E_0 for i in range(-N,N+1)])"
   ]
  },
  {
   "cell_type": "code",
   "execution_count": 18,
   "metadata": {},
   "outputs": [],
   "source": [
    "psi_0 , psi_1 = H_eigenvectors[:,0] , H_eigenvectors[:,1] # eigenvectors corresponding to ground and first excited state respectively"
   ]
  },
  {
   "cell_type": "code",
   "execution_count": 19,
   "metadata": {
    "scrolled": true
   },
   "outputs": [
    {
     "data": {
      "image/png": "[encoded data removed]",
      "text/plain": [
       "<Figure size 432x288 with 1 Axes>"
      ]
     },
     "metadata": {
      "needs_background": "light"
     },
     "output_type": "display_data"
    }
   ],
   "source": [
    "plt.plot(x, 30*(-psi_0) + H_eigenvalues[0], label=\"$psi_0$\")\n",
    "plt.plot(x, 30*(-psi_1) + H_eigenvalues[1], label =\"$psi_1$\")\n",
    "plt.plot(x, potential, label=\"Potential\")\n",
    "\n",
    "plt.xlabel('x')\n",
    "plt.ylabel('Energy(eV)')\n",
    "plt.legend();"
   ]
  },
  {
   "cell_type": "code",
   "execution_count": 20,
   "metadata": {},
   "outputs": [
    {
     "data": {
      "text/plain": [
       "array([7.19964406e-09, 1.44283696e-08, 2.17153749e-08, 2.90900946e-08,\n",
       "       3.65823178e-08, 4.42223075e-08, 5.20409245e-08, 6.00697505e-08,\n",
       "       6.83412163e-08, 7.68887324e-08, 8.57468252e-08, 9.49512753e-08,\n",
       "       1.04539262e-07, 1.14549513e-07, 1.25022465e-07, 1.36000420e-07,\n",
       "       1.47527721e-07, 1.59650931e-07, 1.72419019e-07, 1.85883560e-07,\n",
       "       2.00098939e-07, 2.15122578e-07, 2.31015162e-07, 2.47840885e-07,\n",
       "       2.65667712e-07, 2.84567650e-07, 3.04617043e-07, 3.25896874e-07,\n",
       "       3.48493100e-07, 3.72496995e-07, 3.98005516e-07, 4.25121700e-07,\n",
       "       4.53955078e-07, 4.84622117e-07, 5.17246689e-07, 5.51960575e-07,\n",
       "       5.88903995e-07, 6.28226175e-07, 6.70085949e-07, 7.14652400e-07,\n",
       "       7.62105547e-07, 8.12637065e-07, 8.66451068e-07, 9.23764926e-07,\n",
       "       9.84810146e-07, 1.04983331e-06, 1.11909707e-06, 1.19288119e-06,\n",
       "       1.27148371e-06, 1.35522214e-06, 1.44443472e-06, 1.53948181e-06,\n",
       "       1.64074732e-06, 1.74864030e-06, 1.86359656e-06, 1.98608044e-06,\n",
       "       2.11658670e-06, 2.25564248e-06, 2.40380948e-06, 2.56168619e-06,\n",
       "       2.72991031e-06, 2.90916136e-06, 3.10016338e-06, 3.30368789e-06,\n",
       "       3.52055698e-06, 3.75164666e-06, 3.99789036e-06, 4.26028273e-06,\n",
       "       4.53988367e-06, 4.83782255e-06, 5.15530284e-06, 5.49360695e-06,\n",
       "       5.85410137e-06, 6.23824227e-06, 6.64758129e-06, 7.08377188e-06,\n",
       "       7.54857595e-06, 8.04387097e-06, 8.57165760e-06, 9.13406771e-06,\n",
       "       9.73337306e-06, 1.03719944e-05, 1.10525114e-05, 1.17776727e-05,\n",
       "       1.25504076e-05, 1.33738373e-05, 1.42512880e-05, 1.51863039e-05,\n",
       "       1.61826618e-05, 1.72443863e-05, 1.83757661e-05, 1.95813711e-05,\n",
       "       2.08660711e-05, 2.22350554e-05, 2.36938538e-05, 2.52483587e-05,\n",
       "       2.69048493e-05, 2.86700166e-05, 3.05509907e-05, 3.25553694e-05,\n",
       "       3.46912490e-05, 3.69672569e-05, 3.93925866e-05, 4.19770348e-05,\n",
       "       4.47310408e-05, 4.76657288e-05, 5.07929530e-05, 5.41253451e-05,\n",
       "       5.76763657e-05, 6.14603584e-05, 6.54926078e-05, 6.97894015e-05,\n",
       "       7.43680955e-05, 7.92471845e-05, 8.44463766e-05, 8.99866728e-05,\n",
       "       9.58904522e-05, 1.02181562e-04, 1.08885413e-04, 1.16029085e-04,\n",
       "       1.23641434e-04, 1.31753207e-04, 1.40397171e-04, 1.49608241e-04,\n",
       "       1.59423623e-04, 1.69882966e-04, 1.81028516e-04, 1.92905295e-04,\n",
       "       2.05561276e-04, 2.19047580e-04, 2.33418683e-04, 2.48732634e-04,\n",
       "       2.65051291e-04, 2.82440569e-04, 3.00970709e-04, 3.20716560e-04,\n",
       "       3.41757881e-04, 3.64179664e-04, 3.88072478e-04, 4.13532833e-04,\n",
       "       4.40663570e-04, 4.69574280e-04, 5.00381741e-04, 5.33210393e-04,\n",
       "       5.68192842e-04, 6.05470391e-04, 6.45193617e-04, 6.87522973e-04,\n",
       "       7.32629439e-04, 7.80695216e-04, 8.31914454e-04, 8.86494043e-04,\n",
       "       9.44654447e-04, 1.00663059e-03, 1.07267282e-03, 1.14304790e-03,\n",
       "       1.21804008e-03, 1.29795230e-03, 1.38310733e-03, 1.47384915e-03,\n",
       "       1.57054429e-03, 1.67358332e-03, 1.78338246e-03, 1.90038521e-03,\n",
       "       2.02506419e-03, 2.15792301e-03, 2.29949832e-03, 2.45036200e-03,\n",
       "       2.61112342e-03, 2.78243195e-03, 2.96497956e-03, 3.15950360e-03,\n",
       "       3.36678983e-03, 3.58767553e-03, 3.82305292e-03, 4.07387277e-03,\n",
       "       4.34114821e-03, 4.62595884e-03, 4.92945511e-03, 5.25286292e-03,\n",
       "       5.59748862e-03, 5.96472425e-03, 6.35605318e-03, 6.77305612e-03,\n",
       "       7.21741746e-03, 7.69093210e-03, 8.19551272e-03, 8.73319747e-03,\n",
       "       9.30615822e-03, 9.91670933e-03, 1.05673170e-02, 1.12606092e-02,\n",
       "       1.19993864e-02, 1.27866327e-02, 1.36255280e-02, 1.45194610e-02,\n",
       "       1.54720423e-02, 1.64871199e-02, 1.75687939e-02, 1.87214335e-02,\n",
       "       1.99496946e-02, 2.11742982e-02, 2.23950199e-02, 2.36116359e-02,\n",
       "       2.48239231e-02, 2.60316592e-02, 2.72346229e-02, 2.84325937e-02,\n",
       "       2.96253517e-02, 3.08126785e-02, 3.19943564e-02, 3.31701686e-02,\n",
       "       3.43398996e-02, 3.55033350e-02, 3.66602615e-02, 3.78104670e-02,\n",
       "       3.89537406e-02, 4.00898727e-02, 4.12186550e-02, 4.23398806e-02,\n",
       "       4.34533439e-02, 4.45588408e-02, 4.56561686e-02, 4.67451262e-02,\n",
       "       4.78255138e-02, 4.88971335e-02, 4.99597887e-02, 5.10132847e-02,\n",
       "       5.20574283e-02, 5.30920280e-02, 5.41168943e-02, 5.51318391e-02,\n",
       "       5.61366765e-02, 5.71312222e-02, 5.81152939e-02, 5.90887112e-02,\n",
       "       6.00512956e-02, 6.10028706e-02, 6.19432618e-02, 6.28722968e-02,\n",
       "       6.37898052e-02, 6.46956189e-02, 6.55895718e-02, 6.64714999e-02,\n",
       "       6.73412417e-02, 6.81986376e-02, 6.90435305e-02, 6.98757655e-02,\n",
       "       7.06951900e-02, 7.15016537e-02, 7.22950088e-02, 7.30751100e-02,\n",
       "       7.38418140e-02, 7.45949805e-02, 7.53344712e-02, 7.60601507e-02,\n",
       "       7.67718859e-02, 7.74695463e-02, 7.81530040e-02, 7.88221337e-02,\n",
       "       7.94768128e-02, 8.01169211e-02, 8.07423414e-02, 8.13529590e-02,\n",
       "       8.19486620e-02, 8.25293411e-02, 8.30948899e-02, 8.36452046e-02,\n",
       "       8.41801845e-02, 8.46997314e-02, 8.52037501e-02, 8.56921482e-02,\n",
       "       8.61648361e-02, 8.66217271e-02, 8.70627376e-02, 8.74877867e-02,\n",
       "       8.78967964e-02, 8.82896917e-02, 8.86664007e-02, 8.90268542e-02,\n",
       "       8.93709862e-02, 8.96987335e-02, 9.00100362e-02, 9.03048371e-02,\n",
       "       9.05830822e-02, 9.08447204e-02, 9.10897039e-02, 9.13179876e-02,\n",
       "       9.15295298e-02, 9.17242916e-02, 9.19022374e-02, 9.20633345e-02,\n",
       "       9.22075534e-02, 9.23348676e-02, 9.24452539e-02, 9.25386919e-02,\n",
       "       9.26151645e-02, 9.26746578e-02, 9.27171608e-02, 9.27426657e-02,\n",
       "       9.27511679e-02, 9.27426657e-02, 9.27171608e-02, 9.26746578e-02,\n",
       "       9.26151645e-02, 9.25386919e-02, 9.24452539e-02, 9.23348676e-02,\n",
       "       9.22075534e-02, 9.20633345e-02, 9.19022374e-02, 9.17242916e-02,\n",
       "       9.15295298e-02, 9.13179876e-02, 9.10897039e-02, 9.08447204e-02,\n",
       "       9.05830822e-02, 9.03048371e-02, 9.00100362e-02, 8.96987335e-02,\n",
       "       8.93709862e-02, 8.90268542e-02, 8.86664007e-02, 8.82896917e-02,\n",
       "       8.78967964e-02, 8.74877867e-02, 8.70627376e-02, 8.66217271e-02,\n",
       "       8.61648361e-02, 8.56921482e-02, 8.52037501e-02, 8.46997314e-02,\n",
       "       8.41801845e-02, 8.36452046e-02, 8.30948899e-02, 8.25293411e-02,\n",
       "       8.19486620e-02, 8.13529590e-02, 8.07423414e-02, 8.01169211e-02,\n",
       "       7.94768128e-02, 7.88221337e-02, 7.81530040e-02, 7.74695463e-02,\n",
       "       7.67718859e-02, 7.60601507e-02, 7.53344712e-02, 7.45949805e-02,\n",
       "       7.38418140e-02, 7.30751100e-02, 7.22950088e-02, 7.15016537e-02,\n",
       "       7.06951900e-02, 6.98757655e-02, 6.90435305e-02, 6.81986376e-02,\n",
       "       6.73412417e-02, 6.64714999e-02, 6.55895718e-02, 6.46956189e-02,\n",
       "       6.37898052e-02, 6.28722968e-02, 6.19432618e-02, 6.10028706e-02,\n",
       "       6.00512956e-02, 5.90887112e-02, 5.81152939e-02, 5.71312222e-02,\n",
       "       5.61366765e-02, 5.51318391e-02, 5.41168943e-02, 5.30920280e-02,\n",
       "       5.20574283e-02, 5.10132847e-02, 4.99597887e-02, 4.88971335e-02,\n",
       "       4.78255138e-02, 4.67451262e-02, 4.56561686e-02, 4.45588408e-02,\n",
       "       4.34533439e-02, 4.23398806e-02, 4.12186550e-02, 4.00898727e-02,\n",
       "       3.89537406e-02, 3.78104670e-02, 3.66602615e-02, 3.55033350e-02,\n",
       "       3.43398996e-02, 3.31701686e-02, 3.19943564e-02, 3.08126785e-02,\n",
       "       2.96253517e-02, 2.84325937e-02, 2.72346229e-02, 2.60316592e-02,\n",
       "       2.48239231e-02, 2.36116359e-02, 2.23950199e-02, 2.11742982e-02,\n",
       "       1.99496946e-02, 1.87214335e-02, 1.75687939e-02, 1.64871199e-02,\n",
       "       1.54720423e-02, 1.45194610e-02, 1.36255280e-02, 1.27866327e-02,\n",
       "       1.19993864e-02, 1.12606092e-02, 1.05673170e-02, 9.91670933e-03,\n",
       "       9.30615822e-03, 8.73319747e-03, 8.19551272e-03, 7.69093210e-03,\n",
       "       7.21741746e-03, 6.77305612e-03, 6.35605318e-03, 5.96472425e-03,\n",
       "       5.59748862e-03, 5.25286292e-03, 4.92945511e-03, 4.62595884e-03,\n",
       "       4.34114821e-03, 4.07387277e-03, 3.82305292e-03, 3.58767553e-03,\n",
       "       3.36678983e-03, 3.15950360e-03, 2.96497956e-03, 2.78243195e-03,\n",
       "       2.61112342e-03, 2.45036200e-03, 2.29949832e-03, 2.15792301e-03,\n",
       "       2.02506419e-03, 1.90038521e-03, 1.78338246e-03, 1.67358332e-03,\n",
       "       1.57054429e-03, 1.47384915e-03, 1.38310733e-03, 1.29795230e-03,\n",
       "       1.21804008e-03, 1.14304790e-03, 1.07267282e-03, 1.00663059e-03,\n",
       "       9.44654447e-04, 8.86494043e-04, 8.31914454e-04, 7.80695216e-04,\n",
       "       7.32629439e-04, 6.87522973e-04, 6.45193617e-04, 6.05470391e-04,\n",
       "       5.68192842e-04, 5.33210393e-04, 5.00381741e-04, 4.69574280e-04,\n",
       "       4.40663570e-04, 4.13532833e-04, 3.88072478e-04, 3.64179664e-04,\n",
       "       3.41757881e-04, 3.20716560e-04, 3.00970709e-04, 2.82440569e-04,\n",
       "       2.65051291e-04, 2.48732634e-04, 2.33418683e-04, 2.19047580e-04,\n",
       "       2.05561276e-04, 1.92905295e-04, 1.81028516e-04, 1.69882966e-04,\n",
       "       1.59423624e-04, 1.49608241e-04, 1.40397171e-04, 1.31753207e-04,\n",
       "       1.23641434e-04, 1.16029086e-04, 1.08885413e-04, 1.02181562e-04,\n",
       "       9.58904522e-05, 8.99866728e-05, 8.44463766e-05, 7.92471845e-05,\n",
       "       7.43680955e-05, 6.97894016e-05, 6.54926079e-05, 6.14603584e-05,\n",
       "       5.76763657e-05, 5.41253451e-05, 5.07929530e-05, 4.76657288e-05,\n",
       "       4.47310408e-05, 4.19770348e-05, 3.93925866e-05, 3.69672569e-05,\n",
       "       3.46912490e-05, 3.25553694e-05, 3.05509907e-05, 2.86700166e-05,\n",
       "       2.69048493e-05, 2.52483587e-05, 2.36938538e-05, 2.22350554e-05,\n",
       "       2.08660711e-05, 1.95813711e-05, 1.83757661e-05, 1.72443864e-05,\n",
       "       1.61826618e-05, 1.51863039e-05, 1.42512880e-05, 1.33738374e-05,\n",
       "       1.25504076e-05, 1.17776727e-05, 1.10525114e-05, 1.03719944e-05,\n",
       "       9.73337307e-06, 9.13406772e-06, 8.57165761e-06, 8.04387098e-06,\n",
       "       7.54857596e-06, 7.08377189e-06, 6.64758130e-06, 6.23824228e-06,\n",
       "       5.85410138e-06, 5.49360696e-06, 5.15530285e-06, 4.83782256e-06,\n",
       "       4.53988368e-06, 4.26028274e-06, 3.99789037e-06, 3.75164667e-06,\n",
       "       3.52055699e-06, 3.30368790e-06, 3.10016339e-06, 2.90916137e-06,\n",
       "       2.72991032e-06, 2.56168620e-06, 2.40380949e-06, 2.25564249e-06,\n",
       "       2.11658671e-06, 1.98608045e-06, 1.86359656e-06, 1.74864030e-06,\n",
       "       1.64074732e-06, 1.53948181e-06, 1.44443473e-06, 1.35522215e-06,\n",
       "       1.27148372e-06, 1.19288119e-06, 1.11909707e-06, 1.04983332e-06,\n",
       "       9.84810153e-07, 9.23764932e-07, 8.66451074e-07, 8.12637071e-07,\n",
       "       7.62105552e-07, 7.14652406e-07, 6.70085955e-07, 6.28226181e-07,\n",
       "       5.88904001e-07, 5.51960581e-07, 5.17246694e-07, 4.84622121e-07,\n",
       "       4.53955082e-07, 4.25121704e-07, 3.98005520e-07, 3.72496999e-07,\n",
       "       3.48493105e-07, 3.25896878e-07, 3.04617047e-07, 2.84567654e-07,\n",
       "       2.65667717e-07, 2.47840890e-07, 2.31015167e-07, 2.15122584e-07,\n",
       "       2.00098945e-07, 1.85883565e-07, 1.72419024e-07, 1.59650936e-07,\n",
       "       1.47527725e-07, 1.36000424e-07, 1.25022469e-07, 1.14549517e-07,\n",
       "       1.04539264e-07, 9.49512770e-08, 8.57468263e-08, 7.68887329e-08,\n",
       "       6.83412166e-08, 6.00697502e-08, 5.20409239e-08, 4.42223064e-08,\n",
       "       3.65823159e-08, 2.90900925e-08, 2.17153724e-08, 1.44283674e-08,\n",
       "       7.19964323e-09])"
      ]
     },
     "execution_count": 20,
     "metadata": {},
     "output_type": "execute_result"
    }
   ],
   "source": [
    "psi_0.conj().T # Hermitian adjoint of psi"
   ]
  },
  {
   "cell_type": "code",
   "execution_count": 21,
   "metadata": {},
   "outputs": [
    {
     "data": {
      "text/plain": [
       "1.0"
      ]
     },
     "execution_count": 21,
     "metadata": {},
     "output_type": "execute_result"
    }
   ],
   "source": [
    "np.dot(psi_0.conj().T, psi_0) # Normalization check"
   ]
  },
  {
   "cell_type": "code",
   "execution_count": 22,
   "metadata": {},
   "outputs": [
    {
     "name": "stdout",
     "output_type": "stream",
     "text": [
      "-40.392992463483594 -34.93945809979014\n"
     ]
    }
   ],
   "source": [
    "E0 , E1 = H_eigenvalues[0] , H_eigenvalues[1] #DIMENSIONLESS GROUND AND FIRST EXCITED ENERGY STATES RESPECTIVELY\n",
    "print(E0,E1)"
   ]
  },
  {
   "cell_type": "code",
   "execution_count": 23,
   "metadata": {},
   "outputs": [],
   "source": [
    "E0 , E1 = E0 * e , E1 * e"
   ]
  },
  {
   "cell_type": "code",
   "execution_count": 24,
   "metadata": {},
   "outputs": [
    {
     "name": "stdout",
     "output_type": "stream",
     "text": [
      "-38.26333331131512 -33.09732826052921\n"
     ]
    }
   ],
   "source": [
    "print(E0,E1) #GROUND AND FIRST EXCITED ENERGY STATES RESPECTIVELY IN eV"
   ]
  },
  {
   "cell_type": "code",
   "execution_count": null,
   "metadata": {},
   "outputs": [],
   "source": [
    "print(psi_0,psi_1) #GROUND AND FIRST EXCITED EIGEN VECTORS RESPECTIVELY "
   ]
  },
  {
   "cell_type": "code",
   "execution_count": null,
   "metadata": {},
   "outputs": [],
   "source": []
  },
  {
   "cell_type": "code",
   "execution_count": null,
   "metadata": {},
   "outputs": [],
   "source": []
  }
 ],
 "metadata": {
  "kernelspec": {
   "display_name": "Python 3",
   "language": "python",
   "name": "python3"
  },
  "language_info": {
   "codemirror_mode": {
    "name": "ipython",
    "version": 3
   },
   "file_extension": ".py",
   "mimetype": "text/x-python",
   "name": "python",
   "nbconvert_exporter": "python",
   "pygments_lexer": "ipython3",
   "version": "3.8.3"
  },
  "latex_envs": {
   "LaTeX_envs_menu_present": true,
   "autoclose": true,
   "autocomplete": true,
   "bibliofile": "biblio.bib",
   "cite_by": "apalike",
   "current_citInitial": 1,
   "eqLabelWithNumbers": true,
   "eqNumInitial": 1,
   "hotkeys": {
    "equation": "Ctrl-E",
    "itemize": "Ctrl-I"
   },
   "labels_anchors": false,
   "latex_user_defs": false,
   "report_style_numbering": false,
   "user_envs_cfg": false
  }
 },
 "nbformat": 4,
 "nbformat_minor": 4
}
