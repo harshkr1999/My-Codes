{
 "cells": [
  {
   "cell_type": "markdown",
   "metadata": {},
   "source": [
    "# Plotting a function using Legendre Polynomial"
   ]
  },
  {
   "cell_type": "code",
   "execution_count": 6,
   "metadata": {},
   "outputs": [
    {
     "data": {
      "text/plain": [
       "[<matplotlib.lines.Line2D at 0x1431900fac0>]"
      ]
     },
     "execution_count": 6,
     "metadata": {},
     "output_type": "execute_result"
    },
    {
     "data": {
      "image/png": "[encoded data removed]",
      "text/plain": [
       "<Figure size 432x288 with 1 Axes>"
      ]
     },
     "metadata": {
      "needs_background": "light"
     },
     "output_type": "display_data"
    }
   ],
   "source": [
    "from pylab import *\n",
    "from numpy import *\n",
    "%matplotlib inline\n",
    "\n",
    "N = 1000\n",
    "x = linspace(-1.0,1.0,N+1)\n",
    "U = array([x**0])\n",
    "order = 7\n",
    "\n",
    "for i in range(1,order):\n",
    "    U = concatenate((U,[x**i]))\n",
    "    \n",
    "def dotproduct(f,g):\n",
    "    integral = 0.0\n",
    "    a = -1.0\n",
    "    b = 1.0\n",
    "    h = (b-a)/N\n",
    "    def dot(x,y):\n",
    "        return x*y\n",
    "    for s in range(0,N-1,2):\n",
    "        y0 = dot(f[s],g[s])\n",
    "        y1 = 4*dot(f[s+1],g[s+1])\n",
    "        y2 = dot(f[s+2],g[s+2])\n",
    "        integral += (h/3)*(y0+y1+y2)\n",
    "    return integral\n",
    "\n",
    "V = array([ U[0]/sqrt(dotproduct(U[0],U[0])) ])\n",
    "\n",
    "for i in range(1,order):\n",
    "    m = len(V)\n",
    "    w = w1 = U[i]\n",
    "    for j in range(0,m):\n",
    "        w1 -= ( dotproduct(w,V[j]) )*V[j]\n",
    "    v = w1/(sqrt(dotproduct(w1,w1)))\n",
    "    V = concatenate((V,[v]))\n",
    "    \n",
    "n = order\n",
    "def h(x):\n",
    "    return tan(7*x)*sin(5*x)  ############## type the function that you want to plot here ##############\n",
    "C_Array = zeros(n)\n",
    "for i in range(n):\n",
    "    C_Array[i] = dotproduct(h(x),V[i])\n",
    "approx_f_vals = zeros(N+1)\n",
    "for i in range(n):\n",
    "    approx_f_vals += C_Array[i] * V[i]\n",
    "#xlim(-1,1)\n",
    "plot(x,approx_f_vals)\n",
    "plot(x,h(x))\n",
    "#legend(['omega','energy','theta'],loc='upper right')"
   ]
  },
  {
   "cell_type": "code",
   "execution_count": null,
   "metadata": {},
   "outputs": [],
   "source": []
  }
 ],
 "metadata": {
  "kernelspec": {
   "display_name": "Python 3",
   "language": "python",
   "name": "python3"
  },
  "language_info": {
   "codemirror_mode": {
    "name": "ipython",
    "version": 3
   },
   "file_extension": ".py",
   "mimetype": "text/x-python",
   "name": "python",
   "nbconvert_exporter": "python",
   "pygments_lexer": "ipython3",
   "version": "3.8.3"
  }
 },
 "nbformat": 4,
 "nbformat_minor": 4
}
